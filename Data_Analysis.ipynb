{
 "cells": [
  {
   "cell_type": "code",
   "execution_count": 1,
   "id": "26dac234",
   "metadata": {},
   "outputs": [
    {
     "data": {
      "text/html": [
       "<div>\n",
       "<style scoped>\n",
       "    .dataframe tbody tr th:only-of-type {\n",
       "        vertical-align: middle;\n",
       "    }\n",
       "\n",
       "    .dataframe tbody tr th {\n",
       "        vertical-align: top;\n",
       "    }\n",
       "\n",
       "    .dataframe thead th {\n",
       "        text-align: right;\n",
       "    }\n",
       "</style>\n",
       "<table border=\"1\" class=\"dataframe\">\n",
       "  <thead>\n",
       "    <tr style=\"text-align: right;\">\n",
       "      <th></th>\n",
       "      <th>count</th>\n",
       "      <th>title</th>\n",
       "    </tr>\n",
       "  </thead>\n",
       "  <tbody>\n",
       "    <tr>\n",
       "      <th>0</th>\n",
       "      <td>25916</td>\n",
       "      <td>Senior Engineer</td>\n",
       "    </tr>\n",
       "    <tr>\n",
       "      <th>1</th>\n",
       "      <td>24926</td>\n",
       "      <td>Senior Staff</td>\n",
       "    </tr>\n",
       "    <tr>\n",
       "      <th>2</th>\n",
       "      <td>9285</td>\n",
       "      <td>Engineer</td>\n",
       "    </tr>\n",
       "    <tr>\n",
       "      <th>3</th>\n",
       "      <td>7636</td>\n",
       "      <td>Staff</td>\n",
       "    </tr>\n",
       "    <tr>\n",
       "      <th>4</th>\n",
       "      <td>3603</td>\n",
       "      <td>Technique Leader</td>\n",
       "    </tr>\n",
       "  </tbody>\n",
       "</table>\n",
       "</div>"
      ],
      "text/plain": [
       "   count             title\n",
       "0  25916   Senior Engineer\n",
       "1  24926      Senior Staff\n",
       "2   9285          Engineer\n",
       "3   7636             Staff\n",
       "4   3603  Technique Leader"
      ]
     },
     "execution_count": 1,
     "metadata": {},
     "output_type": "execute_result"
    }
   ],
   "source": [
    "import pandas as pd\n",
    "\n",
    "df1 = pd.read_csv(\"Data/retiring_titles.csv\")\n",
    "df1.head()"
   ]
  },
  {
   "cell_type": "code",
   "execution_count": 12,
   "id": "d463e067",
   "metadata": {},
   "outputs": [],
   "source": [
    "df1['% of total'] = (df1['count'] / df1['count'].sum()).round(2)"
   ]
  },
  {
   "cell_type": "code",
   "execution_count": 9,
   "id": "28f40d5c",
   "metadata": {},
   "outputs": [
    {
     "data": {
      "text/plain": [
       "72458"
      ]
     },
     "execution_count": 9,
     "metadata": {},
     "output_type": "execute_result"
    }
   ],
   "source": [
    "df1['count'].sum()"
   ]
  },
  {
   "cell_type": "code",
   "execution_count": 13,
   "id": "f6219d54",
   "metadata": {},
   "outputs": [
    {
     "data": {
      "text/html": [
       "<div>\n",
       "<style scoped>\n",
       "    .dataframe tbody tr th:only-of-type {\n",
       "        vertical-align: middle;\n",
       "    }\n",
       "\n",
       "    .dataframe tbody tr th {\n",
       "        vertical-align: top;\n",
       "    }\n",
       "\n",
       "    .dataframe thead th {\n",
       "        text-align: right;\n",
       "    }\n",
       "</style>\n",
       "<table border=\"1\" class=\"dataframe\">\n",
       "  <thead>\n",
       "    <tr style=\"text-align: right;\">\n",
       "      <th></th>\n",
       "      <th>count</th>\n",
       "      <th>title</th>\n",
       "      <th>% of total</th>\n",
       "    </tr>\n",
       "  </thead>\n",
       "  <tbody>\n",
       "    <tr>\n",
       "      <th>0</th>\n",
       "      <td>25916</td>\n",
       "      <td>Senior Engineer</td>\n",
       "      <td>0.36</td>\n",
       "    </tr>\n",
       "    <tr>\n",
       "      <th>1</th>\n",
       "      <td>24926</td>\n",
       "      <td>Senior Staff</td>\n",
       "      <td>0.34</td>\n",
       "    </tr>\n",
       "    <tr>\n",
       "      <th>2</th>\n",
       "      <td>9285</td>\n",
       "      <td>Engineer</td>\n",
       "      <td>0.13</td>\n",
       "    </tr>\n",
       "    <tr>\n",
       "      <th>3</th>\n",
       "      <td>7636</td>\n",
       "      <td>Staff</td>\n",
       "      <td>0.11</td>\n",
       "    </tr>\n",
       "    <tr>\n",
       "      <th>4</th>\n",
       "      <td>3603</td>\n",
       "      <td>Technique Leader</td>\n",
       "      <td>0.05</td>\n",
       "    </tr>\n",
       "    <tr>\n",
       "      <th>5</th>\n",
       "      <td>1090</td>\n",
       "      <td>Assistant Engineer</td>\n",
       "      <td>0.02</td>\n",
       "    </tr>\n",
       "    <tr>\n",
       "      <th>6</th>\n",
       "      <td>2</td>\n",
       "      <td>Manager</td>\n",
       "      <td>0.00</td>\n",
       "    </tr>\n",
       "  </tbody>\n",
       "</table>\n",
       "</div>"
      ],
      "text/plain": [
       "   count               title  % of total\n",
       "0  25916     Senior Engineer        0.36\n",
       "1  24926        Senior Staff        0.34\n",
       "2   9285            Engineer        0.13\n",
       "3   7636               Staff        0.11\n",
       "4   3603    Technique Leader        0.05\n",
       "5   1090  Assistant Engineer        0.02\n",
       "6      2             Manager        0.00"
      ]
     },
     "execution_count": 13,
     "metadata": {},
     "output_type": "execute_result"
    }
   ],
   "source": []
  },
  {
   "cell_type": "code",
   "execution_count": 17,
   "id": "48493962",
   "metadata": {},
   "outputs": [],
   "source": [
    "df2 = pd.read_csv(\"Data/mentorship_eligibility.csv\")\n"
   ]
  },
  {
   "cell_type": "code",
   "execution_count": 25,
   "id": "90ee1eca",
   "metadata": {},
   "outputs": [],
   "source": [
    "df3 = (df2['title'].value_counts() / len(df2.index)).round(2) "
   ]
  },
  {
   "cell_type": "code",
   "execution_count": 31,
   "id": "779ee2fa",
   "metadata": {},
   "outputs": [
    {
     "data": {
      "text/plain": [
       "Senior Staff        0.37\n",
       "Senior Engineer     0.34\n",
       "Engineer            0.12\n",
       "Staff               0.10\n",
       "Technique Leader    0.05\n",
       "Name: title, dtype: float64"
      ]
     },
     "execution_count": 31,
     "metadata": {},
     "output_type": "execute_result"
    }
   ],
   "source": [
    "df3.head()"
   ]
  },
  {
   "cell_type": "code",
   "execution_count": 27,
   "id": "c6e6d8b2",
   "metadata": {},
   "outputs": [],
   "source": [
    "import matplotlib.pyplot as plt"
   ]
  },
  {
   "cell_type": "code",
   "execution_count": 44,
   "id": "6efdd944",
   "metadata": {},
   "outputs": [],
   "source": [
    "plt.rcParams['axes.facecolor']='white'\n",
    "plt.rcParams['savefig.facecolor']='white'"
   ]
  },
  {
   "cell_type": "code",
   "execution_count": 33,
   "id": "8021d46d",
   "metadata": {},
   "outputs": [
    {
     "data": {
      "text/plain": [
       "pandas.core.series.Series"
      ]
     },
     "execution_count": 33,
     "metadata": {},
     "output_type": "execute_result"
    }
   ],
   "source": [
    "type(df3)"
   ]
  },
  {
   "cell_type": "code",
   "execution_count": 52,
   "id": "765122aa",
   "metadata": {},
   "outputs": [
    {
     "data": {
      "image/png": "[encoded data removed]",
      "text/plain": [
       "<Figure size 432x288 with 1 Axes>"
      ]
     },
     "metadata": {},
     "output_type": "display_data"
    }
   ],
   "source": [
    "plt.pie(df3, labels = df3.axes[0].tolist(),\n",
    "       autopct='%1.1f%%',\n",
    "       )\n",
    "plt.title(\"Pie chart of titles eligible to be mentors\")\n",
    "plt.savefig(\"Resources/fig1\")\n",
    "plt.show()"
   ]
  },
  {
   "cell_type": "code",
   "execution_count": 40,
   "id": "fb803a81",
   "metadata": {},
   "outputs": [],
   "source": [
    "pielabels = ['Senior Staff', 'Senior Engineer', 'Engineer', 'Staff',\n",
    "       'Technique Leader', 'Assistant Engineer']"
   ]
  },
  {
   "cell_type": "code",
   "execution_count": 51,
   "id": "b7fd6687",
   "metadata": {},
   "outputs": [
    {
     "data": {
      "text/plain": [
       "['Senior Staff',\n",
       " 'Senior Engineer',\n",
       " 'Engineer',\n",
       " 'Staff',\n",
       " 'Technique Leader',\n",
       " 'Assistant Engineer']"
      ]
     },
     "execution_count": 51,
     "metadata": {},
     "output_type": "execute_result"
    }
   ],
   "source": [
    "df3.axes[0].tolist()"
   ]
  },
  {
   "cell_type": "code",
   "execution_count": 57,
   "id": "b9274543",
   "metadata": {},
   "outputs": [
    {
     "data": {
      "text/plain": [
       "pandas.core.series.Series"
      ]
     },
     "execution_count": 57,
     "metadata": {},
     "output_type": "execute_result"
    }
   ],
   "source": [
    "type(df2['from_date'])"
   ]
  },
  {
   "cell_type": "code",
   "execution_count": 82,
   "id": "d3b387c8",
   "metadata": {},
   "outputs": [],
   "source": [
    "df2['birth_date'] = pd.to_datetime(df2['birth_date'])"
   ]
  },
  {
   "cell_type": "code",
   "execution_count": 83,
   "id": "b8491621",
   "metadata": {},
   "outputs": [
    {
     "name": "stdout",
     "output_type": "stream",
     "text": [
      "<class 'pandas.core.frame.DataFrame'>\n",
      "RangeIndex: 1549 entries, 0 to 1548\n",
      "Data columns (total 9 columns):\n",
      " #   Column      Non-Null Count  Dtype         \n",
      "---  ------      --------------  -----         \n",
      " 0   emp_no      1549 non-null   int64         \n",
      " 1   first_name  1549 non-null   object        \n",
      " 2   last_name   1549 non-null   object        \n",
      " 3   birth_date  1549 non-null   datetime64[ns]\n",
      " 4   from_date   1549 non-null   datetime64[ns]\n",
      " 5   to_date     1549 non-null   object        \n",
      " 6   title       1549 non-null   object        \n",
      " 7   % of total  0 non-null      float64       \n",
      " 8   frpm_date   1549 non-null   datetime64[ns]\n",
      "dtypes: datetime64[ns](3), float64(1), int64(1), object(4)\n",
      "memory usage: 109.0+ KB\n"
     ]
    }
   ],
   "source": [
    "df2.info()"
   ]
  },
  {
   "cell_type": "code",
   "execution_count": 84,
   "id": "5106d121",
   "metadata": {},
   "outputs": [],
   "source": [
    "df5 = df2.groupby(df2['birth_date'].map(lambda x: x.year)).count()"
   ]
  },
  {
   "cell_type": "code",
   "execution_count": 85,
   "id": "66ff32d9",
   "metadata": {},
   "outputs": [
    {
     "data": {
      "text/plain": [
       "birth_date\n",
       "1965    1549\n",
       "Name: birth_date, dtype: int64"
      ]
     },
     "execution_count": 85,
     "metadata": {},
     "output_type": "execute_result"
    }
   ],
   "source": [
    "df5['birth_date']"
   ]
  },
  {
   "cell_type": "code",
   "execution_count": 88,
   "id": "881b5d05",
   "metadata": {},
   "outputs": [
    {
     "data": {
      "text/html": [
       "<div>\n",
       "<style scoped>\n",
       "    .dataframe tbody tr th:only-of-type {\n",
       "        vertical-align: middle;\n",
       "    }\n",
       "\n",
       "    .dataframe tbody tr th {\n",
       "        vertical-align: top;\n",
       "    }\n",
       "\n",
       "    .dataframe thead th {\n",
       "        text-align: right;\n",
       "    }\n",
       "</style>\n",
       "<table border=\"1\" class=\"dataframe\">\n",
       "  <thead>\n",
       "    <tr style=\"text-align: right;\">\n",
       "      <th></th>\n",
       "      <th>emp_no</th>\n",
       "      <th>first_name</th>\n",
       "      <th>last_name</th>\n",
       "      <th>title</th>\n",
       "    </tr>\n",
       "  </thead>\n",
       "  <tbody>\n",
       "    <tr>\n",
       "      <th>0</th>\n",
       "      <td>10001</td>\n",
       "      <td>Georgi</td>\n",
       "      <td>Facello</td>\n",
       "      <td>Senior Engineer</td>\n",
       "    </tr>\n",
       "    <tr>\n",
       "      <th>1</th>\n",
       "      <td>10004</td>\n",
       "      <td>Chirstian</td>\n",
       "      <td>Koblick</td>\n",
       "      <td>Senior Engineer</td>\n",
       "    </tr>\n",
       "    <tr>\n",
       "      <th>2</th>\n",
       "      <td>10005</td>\n",
       "      <td>Kyoichi</td>\n",
       "      <td>Maliniak</td>\n",
       "      <td>Senior Staff</td>\n",
       "    </tr>\n",
       "    <tr>\n",
       "      <th>3</th>\n",
       "      <td>10006</td>\n",
       "      <td>Anneke</td>\n",
       "      <td>Preusig</td>\n",
       "      <td>Senior Engineer</td>\n",
       "    </tr>\n",
       "    <tr>\n",
       "      <th>4</th>\n",
       "      <td>10009</td>\n",
       "      <td>Sumant</td>\n",
       "      <td>Peac</td>\n",
       "      <td>Senior Engineer</td>\n",
       "    </tr>\n",
       "  </tbody>\n",
       "</table>\n",
       "</div>"
      ],
      "text/plain": [
       "   emp_no first_name last_name            title\n",
       "0   10001     Georgi   Facello  Senior Engineer\n",
       "1   10004  Chirstian   Koblick  Senior Engineer\n",
       "2   10005    Kyoichi  Maliniak     Senior Staff\n",
       "3   10006     Anneke   Preusig  Senior Engineer\n",
       "4   10009     Sumant      Peac  Senior Engineer"
      ]
     },
     "execution_count": 88,
     "metadata": {},
     "output_type": "execute_result"
    }
   ],
   "source": [
    "all_titles = pd.read_csv(\"Data/unique_titles.csv\")\n",
    "all_titles.head()"
   ]
  },
  {
   "cell_type": "code",
   "execution_count": 91,
   "id": "6dd5f8e3",
   "metadata": {},
   "outputs": [
    {
     "data": {
      "text/plain": [
       "Senior Engineer       25916\n",
       "Senior Staff          24926\n",
       "Engineer               9285\n",
       "Staff                  7636\n",
       "Technique Leader       3603\n",
       "Assistant Engineer     1090\n",
       "Manager                   2\n",
       "Name: title, dtype: int64"
      ]
     },
     "execution_count": 91,
     "metadata": {},
     "output_type": "execute_result"
    }
   ],
   "source": [
    "all_titles[\"title\"].value_counts()"
   ]
  },
  {
   "cell_type": "code",
   "execution_count": null,
   "id": "5be75772",
   "metadata": {},
   "outputs": [],
   "source": []
  }
 ],
 "metadata": {
  "kernelspec": {
   "display_name": "PythonData",
   "language": "python",
   "name": "pythondata"
  },
  "language_info": {
   "codemirror_mode": {
    "name": "ipython",
    "version": 3
   },
   "file_extension": ".py",
   "mimetype": "text/x-python",
   "name": "python",
   "nbconvert_exporter": "python",
   "pygments_lexer": "ipython3",
   "version": "3.7.11"
  }
 },
 "nbformat": 4,
 "nbformat_minor": 5
}
